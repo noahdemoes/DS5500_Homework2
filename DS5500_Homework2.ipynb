{
 "cells": [
  {
   "cell_type": "code",
   "execution_count": 1,
   "metadata": {},
   "outputs": [],
   "source": [
    "import pandas as pd\n",
    "import numpy as np\n",
    "import pickle\n",
    "import time\n",
    "from sklearn.linear_model import ElasticNet, Lasso, Ridge, LogisticRegression, LinearRegression\n",
    "from sklearn.model_selection import train_test_split\n",
    "from sklearn.metrics import mean_squared_error\n",
    "from sklearn.preprocessing import MinMaxScaler\n",
    "from sklearn import datasets\n",
    "from sklearn.model_selection import cross_val_predict\n",
    "from sklearn import linear_model\n",
    "import matplotlib.pyplot as plt\n",
    "import numpy as np"
   ]
  },
  {
   "cell_type": "code",
   "execution_count": 4,
   "metadata": {},
   "outputs": [],
   "source": [
    "df=pd.read_csv('C:\\\\Users\\\\noahd\\\\Documents\\\\hhdfdf.csv')"
   ]
  },
  {
   "cell_type": "code",
   "execution_count": 5,
   "metadata": {},
   "outputs": [
    {
     "data": {
      "text/html": [
       "<div>\n",
       "<style scoped>\n",
       "    .dataframe tbody tr th:only-of-type {\n",
       "        vertical-align: middle;\n",
       "    }\n",
       "\n",
       "    .dataframe tbody tr th {\n",
       "        vertical-align: top;\n",
       "    }\n",
       "\n",
       "    .dataframe thead th {\n",
       "        text-align: right;\n",
       "    }\n",
       "</style>\n",
       "<table border=\"1\" class=\"dataframe\">\n",
       "  <thead>\n",
       "    <tr style=\"text-align: right;\">\n",
       "      <th></th>\n",
       "      <th>Unnamed: 0</th>\n",
       "      <th>geo</th>\n",
       "      <th>time</th>\n",
       "      <th>income_per_person_gdppercapita_ppp_inflation_adjusted</th>\n",
       "      <th>continent</th>\n",
       "      <th>child_mortality_0_5_year_olds_dying_per_1000_born</th>\n",
       "      <th>life_expectancy_years</th>\n",
       "    </tr>\n",
       "  </thead>\n",
       "  <tbody>\n",
       "    <tr>\n",
       "      <th>0</th>\n",
       "      <td>220</td>\n",
       "      <td>AFG</td>\n",
       "      <td>1800</td>\n",
       "      <td>603</td>\n",
       "      <td>Asia</td>\n",
       "      <td>468.58</td>\n",
       "      <td>28.21</td>\n",
       "    </tr>\n",
       "    <tr>\n",
       "      <th>1</th>\n",
       "      <td>221</td>\n",
       "      <td>AFG</td>\n",
       "      <td>1801</td>\n",
       "      <td>603</td>\n",
       "      <td>Asia</td>\n",
       "      <td>468.58</td>\n",
       "      <td>28.20</td>\n",
       "    </tr>\n",
       "    <tr>\n",
       "      <th>2</th>\n",
       "      <td>222</td>\n",
       "      <td>AFG</td>\n",
       "      <td>1802</td>\n",
       "      <td>603</td>\n",
       "      <td>Asia</td>\n",
       "      <td>468.58</td>\n",
       "      <td>28.19</td>\n",
       "    </tr>\n",
       "    <tr>\n",
       "      <th>3</th>\n",
       "      <td>223</td>\n",
       "      <td>AFG</td>\n",
       "      <td>1803</td>\n",
       "      <td>603</td>\n",
       "      <td>Asia</td>\n",
       "      <td>468.58</td>\n",
       "      <td>28.18</td>\n",
       "    </tr>\n",
       "    <tr>\n",
       "      <th>4</th>\n",
       "      <td>224</td>\n",
       "      <td>AFG</td>\n",
       "      <td>1804</td>\n",
       "      <td>603</td>\n",
       "      <td>Asia</td>\n",
       "      <td>468.58</td>\n",
       "      <td>28.17</td>\n",
       "    </tr>\n",
       "  </tbody>\n",
       "</table>\n",
       "</div>"
      ],
      "text/plain": [
       "   Unnamed: 0  geo  time  \\\n",
       "0         220  AFG  1800   \n",
       "1         221  AFG  1801   \n",
       "2         222  AFG  1802   \n",
       "3         223  AFG  1803   \n",
       "4         224  AFG  1804   \n",
       "\n",
       "   income_per_person_gdppercapita_ppp_inflation_adjusted continent  \\\n",
       "0                                                603          Asia   \n",
       "1                                                603          Asia   \n",
       "2                                                603          Asia   \n",
       "3                                                603          Asia   \n",
       "4                                                603          Asia   \n",
       "\n",
       "   child_mortality_0_5_year_olds_dying_per_1000_born  life_expectancy_years  \n",
       "0                                             468.58                  28.21  \n",
       "1                                             468.58                  28.20  \n",
       "2                                             468.58                  28.19  \n",
       "3                                             468.58                  28.18  \n",
       "4                                             468.58                  28.17  "
      ]
     },
     "execution_count": 5,
     "metadata": {},
     "output_type": "execute_result"
    }
   ],
   "source": [
    "df.head()"
   ]
  },
  {
   "cell_type": "code",
   "execution_count": 20,
   "metadata": {},
   "outputs": [],
   "source": [
    "dfreduced=df[['child_mortality_0_5_year_olds_dying_per_1000_born','life_expectancy_years','time','income_per_person_gdppercapita_ppp_inflation_adjusted']]"
   ]
  },
  {
   "cell_type": "code",
   "execution_count": 209,
   "metadata": {},
   "outputs": [
    {
     "name": "stdout",
     "output_type": "stream",
     "text": [
      "Linear Model MSE: 168.75964881746418\n",
      "Ridge Model MSE: 168.90267101140435\n",
      "Lasso Model MSE: 260.43751350274783\n",
      "Elastic Net Model MSE: 259.8868309183112\n"
     ]
    },
    {
     "name": "stderr",
     "output_type": "stream",
     "text": [
      "C:\\Users\\noahd\\Anaconda3\\lib\\site-packages\\sklearn\\utils\\validation.py:595: DataConversionWarning: Data with input dtype int64 was converted to float64 by MinMaxScaler.\n",
      "  warnings.warn(msg, DataConversionWarning)\n"
     ]
    }
   ],
   "source": [
    "scaler = MinMaxScaler()\n",
    "\n",
    "X=dfreduced['income_per_person_gdppercapita_ppp_inflation_adjusted']\n",
    "Y1=dfreduced['life_expectancy_years']\n",
    "\n",
    "scaler.fit(X.values.reshape(-1,1))\n",
    "X=scaler.transform(X.values.reshape(-1,1))\n",
    "\n",
    "X_train, X_test, y_train, y_test = train_test_split(X,Y1, test_size=.1)\n",
    "\n",
    "lm = LinearRegression()\n",
    "lm_fit = lm.fit(X_train, y_train)\n",
    "lm_predict = lm_fit.predict(X_test)\n",
    "\n",
    "ridge = Ridge()\n",
    "ridge_fit = ridge.fit(X_train,y_train)\n",
    "r_predict = ridge_fit.predict(X_test)\n",
    "\n",
    "lasso = Lasso(max_iter=1000)\n",
    "lasso_fit = lasso.fit(X_train,y_train)\n",
    "l_predict = lasso_fit.predict(X_test)\n",
    "\n",
    "ENet = ElasticNet(l1_ratio=.01)\n",
    "ENet_fit = ENet.fit(X_train,y_train)\n",
    "en_predict = ENet_fit.predict(X_test)\n",
    "\n",
    "print('Linear Model MSE:' , mean_squared_error(y_test,lm_predict))\n",
    "print('Ridge Model MSE:' , mean_squared_error(y_test,r_predict))\n",
    "print('Lasso Model MSE:' , mean_squared_error(y_test,l_predict))\n",
    "print('Elastic Net Model MSE:' , mean_squared_error(y_test,en_predict))\n"
   ]
  },
  {
   "cell_type": "code",
   "execution_count": 208,
   "metadata": {},
   "outputs": [
    {
     "data": {
      "image/png": "[encoded data removed]",
      "text/plain": [
       "<Figure size 432x288 with 1 Axes>"
      ]
     },
     "metadata": {
      "needs_background": "light"
     },
     "output_type": "display_data"
    },
    {
     "name": "stdout",
     "output_type": "stream",
     "text": [
      "MSE: 120.90265643430203\n"
     ]
    }
   ],
   "source": [
    "\n",
    "lr = linear_model.LinearRegression()\n",
    "y = dfreduced.life_expectancy_years\n",
    "x= dfreduced.income_per_person_gdppercapita_ppp_inflation_adjusted.values.reshape(-1,1)\n",
    "\n",
    "x_below_25000=[]\n",
    "x_above_25000=[]\n",
    "y_below_25000=[]\n",
    "y_above_25000=[]\n",
    "for i in range(len(x)):\n",
    "\n",
    "    if x[i] <= 25000:\n",
    "        x_below_25000.append(x[i])\n",
    "        y_below_25000.append(y[i])\n",
    "    else:\n",
    "        x_above_25000.append(x[i])\n",
    "        y_above_25000.append(y[i])\n",
    "\n",
    "x_below_25000=np.array(x_below_25000)  \n",
    "x_above_25000=np.array(x_above_25000)\n",
    "# cross_val_predict returns an array of the same size as `y` where each entry\n",
    "# is a prediction obtained by cross validation:\n",
    "predicted_y_below = 19*(np.log(x_below_25000/100)**.8)\n",
    "predicted_y_above = 53*(np.log(x_above_25000/100)**.2)\n",
    "\n",
    "\n",
    "fig, ax = plt.subplots()\n",
    "\n",
    "\n",
    "\n",
    "ax.scatter(x_below_25000, y_below_25000)\n",
    "ax.scatter(x_above_25000, y_above_25000)\n",
    "ax.scatter(x_below_25000, predicted_y_below, edgecolors=(0, 0, 0))\n",
    "ax.scatter(x_above_25000, predicted_y_above, edgecolors=(0, 0, 0))\n",
    "fig.suptitle('Life Expectancy vs GDP/Capita', fontsize=20)\n",
    "plt.xlabel('GDP/Capita', fontsize=18)\n",
    "plt.ylabel('Life Expectancy in years', fontsize=16)\n",
    "#plt.text(8,3,'MSE: '+str(mean_squared_error(y_below_25000 ,predicted_y_below)+mean_squared_error(y_above_25000 ,predicted_y_above)),horizontalalignment='left')\n",
    "\n",
    "plt.annotate('MSE: '+str(mean_squared_error(y_below_25000 ,predicted_y_below)+mean_squared_error(y_above_25000 ,predicted_y_above)), xy=(.5,0.5), xycoords='axes fraction')\n",
    "fig.savefig('DS5500_Homework2_Problem4.jpg')\n",
    "plt.show()\n",
    "\n",
    "\n",
    "print('MSE:' , mean_squared_error(y_below_25000 ,predicted_y_below)+mean_squared_error(y_above_25000 ,predicted_y_above))\n",
    "\n"
   ]
  },
  {
   "cell_type": "markdown",
   "metadata": {},
   "source": [
    "## Problem 5: Child Mortality Vs. GDP/Capita"
   ]
  },
  {
   "cell_type": "code",
   "execution_count": 245,
   "metadata": {},
   "outputs": [
    {
     "name": "stdout",
     "output_type": "stream",
     "text": [
      "Linear Model MSE: 19149.030334105828\n",
      "Ridge Model MSE: 19149.03033410613\n",
      "Lasso Model MSE: 19149.031704474495\n",
      "Elastic Net Model MSE: 19149.030358720676\n"
     ]
    }
   ],
   "source": [
    "X=dfreduced['income_per_person_gdppercapita_ppp_inflation_adjusted']\n",
    "Y1=dfreduced['child_mortality_0_5_year_olds_dying_per_1000_born']\n",
    "\n",
    "\n",
    "X=X.values.reshape(-1,1)\n",
    "\n",
    "X_train, X_test, y_train, y_test = train_test_split(X,Y1, test_size=.1)\n",
    "\n",
    "lm = LinearRegression()\n",
    "lm_fit = lm.fit(X_train, y_train)\n",
    "lm_predict = lm_fit.predict(X_test)\n",
    "\n",
    "ridge = Ridge()\n",
    "ridge_fit = ridge.fit(X_train,y_train)\n",
    "r_predict = ridge_fit.predict(X_test)\n",
    "\n",
    "lasso = Lasso(max_iter=1000)\n",
    "lasso_fit = lasso.fit(X_train,y_train)\n",
    "l_predict = lasso_fit.predict(X_test)\n",
    "\n",
    "ENet = ElasticNet(l1_ratio=.01)\n",
    "ENet_fit = ENet.fit(X_train,y_train)\n",
    "en_predict = ENet_fit.predict(X_test)\n",
    "\n",
    "print('Linear Model MSE:' , mean_squared_error(y_test,lm_predict))\n",
    "print('Ridge Model MSE:' , mean_squared_error(y_test,r_predict))\n",
    "print('Lasso Model MSE:' , mean_squared_error(y_test,l_predict))\n",
    "print('Elastic Net Model MSE:' , mean_squared_error(y_test,en_predict))"
   ]
  },
  {
   "cell_type": "code",
   "execution_count": 251,
   "metadata": {},
   "outputs": [
    {
     "data": {
      "image/png": "[encoded data removed]",
      "text/plain": [
       "<Figure size 432x288 with 1 Axes>"
      ]
     },
     "metadata": {
      "needs_background": "light"
     },
     "output_type": "display_data"
    },
    {
     "name": "stdout",
     "output_type": "stream",
     "text": [
      "MSE: My model 19034.38552862359\n"
     ]
    }
   ],
   "source": [
    "lr = linear_model.LinearRegression()\n",
    "y = dfreduced.child_mortality_0_5_year_olds_dying_per_1000_born\n",
    "x= dfreduced.income_per_person_gdppercapita_ppp_inflation_adjusted.values.reshape(-1,1)\n",
    "\n",
    "x_below_40000=[]\n",
    "x_above_40000=[]\n",
    "y_below_40000=[]\n",
    "y_above_40000=[]\n",
    "for i in range(len(x)):\n",
    "\n",
    "    if x[i] <= 40000:\n",
    "        x_below_40000.append(x[i])\n",
    "        y_below_40000.append(y[i])\n",
    "    else:\n",
    "        x_above_40000.append(x[i])\n",
    "        y_above_40000.append(y[i])\n",
    "\n",
    "x_below_40000=np.array(x_below_40000)  \n",
    "x_above_40000=np.array(x_above_40000)\n",
    "# cross_val_predict returns an array of the same size as `y` where each entry\n",
    "# is a prediction obtained by cross validation:\n",
    "predicted_y_below = lm.predict(x_below_40000)\n",
    "predicted_y_above = 700/x_above_40000**.3\n",
    "\n",
    "\n",
    "fig, ax = plt.subplots()\n",
    "\n",
    "\n",
    "\n",
    "ax.scatter(x_below_40000, y_below_40000)\n",
    "ax.scatter(x_above_40000, y_above_40000)\n",
    "ax.scatter(x_below_40000, predicted_y_below, edgecolors=(0, 0, 0))\n",
    "ax.scatter(x_above_40000, predicted_y_above, edgecolors=(0, 0, 0))\n",
    "fig.suptitle('Child Mortalities per 1000 born vs GDP/Capita', fontsize=20)\n",
    "plt.xlabel('GDP/Capita', fontsize=18)\n",
    "plt.ylabel('child mortalities per 1000 born', fontsize=12)\n",
    "#plt.text(8,3,'MSE: '+str(mean_squared_error(y_below_25000 ,predicted_y_below)+mean_squared_error(y_above_25000 ,predicted_y_above)),horizontalalignment='left')\n",
    "\n",
    "plt.annotate('MSE: '+str(mean_squared_error(y_below_40000 ,predicted_y_below)+mean_squared_error(y_above_40000 ,predicted_y_above)), xy=(.5,0.5), xycoords='axes fraction')\n",
    "fig.savefig('DS5500_Homework2_Problem5.jpg')\n",
    "plt.show()\n",
    "\n",
    "\n",
    "print('MSE: My model' , mean_squared_error(y_below_40000 ,predicted_y_below)+mean_squared_error(y_above_40000 ,predicted_y_above))\n",
    "\n",
    "\n"
   ]
  },
  {
   "cell_type": "code",
   "execution_count": null,
   "metadata": {},
   "outputs": [],
   "source": []
  }
 ],
 "metadata": {
  "kernelspec": {
   "display_name": "Python 3",
   "language": "python",
   "name": "python3"
  },
  "language_info": {
   "codemirror_mode": {
    "name": "ipython",
    "version": 3
   },
   "file_extension": ".py",
   "mimetype": "text/x-python",
   "name": "python",
   "nbconvert_exporter": "python",
   "pygments_lexer": "ipython3",
   "version": "3.7.3"
  }
 },
 "nbformat": 4,
 "nbformat_minor": 2
}
